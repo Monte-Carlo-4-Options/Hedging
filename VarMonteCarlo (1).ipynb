{
 "cells": [
  {
   "cell_type": "code",
   "execution_count": 1,
   "metadata": {},
   "outputs": [],
   "source": [
    "import pandas as pd\n",
    "import numpy as np\n",
    "import matplotlib.pyplot as plt\n",
    "import datetime as dt\n",
    "from pandas_datareader import data as pdr\n",
    "\n",
    "# import data\n",
    "def get_data(stocks, start, end):\n",
    "    stockData = pdr.get_data_yahoo(stocks, start, end)\n",
    "    stockData = stockData['Close']\n",
    "    returns = stockData.pct_change()\n",
    "    meanReturns = returns.mean()\n",
    "    covMatrix = returns.cov()\n",
    "    return meanReturns, covMatrix\n",
    "\n",
    "stockList = ['CBA', 'BHP', 'TLS', 'NAB', 'WBC', 'STO']\n",
    "stocks = [stock + '.AX' for stock in stockList]\n",
    "endDate = dt.datetime.now()\n",
    "startDate = endDate - dt.timedelta(days=300)\n",
    "\n",
    "meanReturns, covMatrix = get_data(stocks, startDate, endDate)\n",
    "\n",
    "weights = np.random.random(len(meanReturns))\n",
    "weights /= np.sum(weights)"
   ]
  },
  {
   "cell_type": "code",
   "execution_count": 13,
   "metadata": {},
   "outputs": [
    {
     "data": {
      "text/plain": [
       "\"\\nplt.plot(portfolio_sims)\\nplt.ylabel('Portfolio Value ($)')\\nplt.xlabel('Days')\\nplt.title('MC simulation of a stock portfolio')\\nplt.show()\\n\""
      ]
     },
     "execution_count": 13,
     "metadata": {},
     "output_type": "execute_result"
    }
   ],
   "source": [
    "# Monte Carlo Method\n",
    "mc_sims = 400 # number of simulations\n",
    "T = 100 #timeframe in days\n",
    "\n",
    "meanM = np.full(shape=(T, len(weights)), fill_value=meanReturns)\n",
    "meanM = meanM.T\n",
    "\n",
    "portfolio_sims = np.full(shape=(T, mc_sims), fill_value=0.0)\n",
    "\n",
    "initialPortfolio = 10000\n",
    "\n",
    "for m in range(0, mc_sims):\n",
    "    Z = np.random.normal(size=(T, len(weights)))#uncorrelated RV's\n",
    "    L = np.linalg.cholesky(covMatrix) #Cholesky decomposition to Lower Triangular Matrix\n",
    "    dailyReturns = meanM + np.inner(L, Z) #Correlated daily returns for individual stocks\n",
    "    portfolio_sims[:,m] = np.cumprod(np.inner(weights, dailyReturns.T)+1)*initialPortfolio\n",
    "    \n",
    "# uncomment the lines below if you wanna see how the portfolio propagates \n",
    "\"\"\"\n",
    "plt.plot(portfolio_sims)\n",
    "plt.ylabel('Portfolio Value ($)')\n",
    "plt.xlabel('Days')\n",
    "plt.title('MC simulation of a stock portfolio')\n",
    "plt.show()\n",
    "\"\"\"\n"
   ]
  },
  {
   "cell_type": "code",
   "execution_count": 14,
   "metadata": {},
   "outputs": [],
   "source": [
    "# Var Menthod:\n",
    "def mcVaR(returns, alpha=5):\n",
    "    \"\"\" Input: pandas series of returns\n",
    "        Output: percentile on return distribution to a given confidence level alpha\n",
    "    \"\"\"\n",
    "    if isinstance(returns, pd.Series):\n",
    "        return np.percentile(returns, alpha)\n",
    "    else:\n",
    "        raise TypeError(\"Expected a pandas data series.\")"
   ]
  },
  {
   "cell_type": "code",
   "execution_count": 15,
   "metadata": {},
   "outputs": [],
   "source": [
    "# Cvar method \n",
    "def mcCVaR(returns, alpha=5):\n",
    "    \"\"\" Input: pandas series of returns\n",
    "        Output: CVaR or Expected Shortfall to a given confidence level alpha\n",
    "    \"\"\"\n",
    "    if isinstance(returns, pd.Series):\n",
    "        belowVaR = returns <= mcVaR(returns, alpha=alpha)\n",
    "        return returns[belowVaR].mean()\n",
    "    else:\n",
    "        raise TypeError(\"Expected a pandas data series.\")"
   ]
  },
  {
   "cell_type": "code",
   "execution_count": 16,
   "metadata": {},
   "outputs": [
    {
     "name": "stdout",
     "output_type": "stream",
     "text": [
      "VaR $1290.14\n",
      "CVaR $1598.03\n"
     ]
    }
   ],
   "source": [
    "portResults = pd.Series(portfolio_sims[-1,:])\n",
    "\n",
    "VaR = initialPortfolio - mcVaR(portResults, alpha=5)\n",
    "CVaR = initialPortfolio - mcCVaR(portResults, alpha=5)\n",
    "\n",
    "print('VaR ${}'.format(round(VaR,2)))\n",
    "print('CVaR ${}'.format(round(CVaR,2)))"
   ]
  },
  {
   "cell_type": "code",
   "execution_count": null,
   "metadata": {},
   "outputs": [],
   "source": []
  }
 ],
 "metadata": {
  "kernelspec": {
   "display_name": "Python 3",
   "language": "python",
   "name": "python3"
  },
  "language_info": {
   "codemirror_mode": {
    "name": "ipython",
    "version": 3
   },
   "file_extension": ".py",
   "mimetype": "text/x-python",
   "name": "python",
   "nbconvert_exporter": "python",
   "pygments_lexer": "ipython3",
   "version": "3.7.6"
  }
 },
 "nbformat": 4,
 "nbformat_minor": 4
}
